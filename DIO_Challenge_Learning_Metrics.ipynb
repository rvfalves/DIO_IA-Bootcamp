{
  "nbformat": 4,
  "nbformat_minor": 0,
  "metadata": {
    "colab": {
      "provenance": [],
      "gpuType": "T4",
      "include_colab_link": true
    },
    "kernelspec": {
      "name": "python3",
      "display_name": "Python 3"
    },
    "accelerator": "GPU"
  },
  "cells": [
    {
      "cell_type": "markdown",
      "metadata": {
        "id": "view-in-github",
        "colab_type": "text"
      },
      "source": [
        "<a href=\"https://colab.research.google.com/github/rvfalves/DIO_IA-Bootcamp/blob/main/DIO_Challenge_Learning_Metrics.ipynb\" target=\"_parent\"><img src=\"https://colab.research.google.com/assets/colab-badge.svg\" alt=\"Open In Colab\"/></a>"
      ]
    },
    {
      "cell_type": "code",
      "metadata": {
        "id": "Nr2ZyMJk9bbn"
      },
      "source": [
        "!pip install -q tensorflow  #2.0.0-beta1"
      ],
      "execution_count": 92,
      "outputs": []
    },
    {
      "cell_type": "code",
      "metadata": {
        "id": "9GOTUsN2vHZr"
      },
      "source": [
        "from tensorflow.keras import datasets, layers, models\n",
        "import matplotlib.pyplot as plt\n",
        "import tensorflow as tf\n",
        "\n",
        "import numpy as np\n",
        "\n",
        "import seaborn as sns\n",
        "\n",
        "import pandas as pd"
      ],
      "execution_count": 93,
      "outputs": []
    },
    {
      "cell_type": "code",
      "metadata": {
        "id": "Wickr6O73HpO",
        "outputId": "0655bae4-2733-44cd-e54c-afcd3805f7a9",
        "colab": {
          "base_uri": "https://localhost:8080/",
          "height": 35
        }
      },
      "source": [
        "tf.__version__"
      ],
      "execution_count": 94,
      "outputs": [
        {
          "output_type": "execute_result",
          "data": {
            "text/plain": [
              "'2.18.0'"
            ],
            "application/vnd.google.colaboratory.intrinsic+json": {
              "type": "string"
            }
          },
          "metadata": {},
          "execution_count": 94
        }
      ]
    },
    {
      "cell_type": "code",
      "metadata": {
        "id": "Lc4AqLg2saU4",
        "colab": {
          "base_uri": "https://localhost:8080/"
        },
        "outputId": "93a52f0e-4944-4ea7-cae8-fec3543392fa"
      },
      "source": [
        "%load_ext tensorboard"
      ],
      "execution_count": 95,
      "outputs": [
        {
          "output_type": "stream",
          "name": "stdout",
          "text": [
            "The tensorboard extension is already loaded. To reload it, use:\n",
            "  %reload_ext tensorboard\n"
          ]
        }
      ]
    },
    {
      "cell_type": "code",
      "metadata": {
        "id": "wHY7qcTV2uxR"
      },
      "source": [
        "logdir='log'"
      ],
      "execution_count": 96,
      "outputs": []
    },
    {
      "cell_type": "code",
      "metadata": {
        "id": "8I41zgjVvF1g"
      },
      "source": [
        "(train_images, train_labels), (test_images, test_labels) = datasets.mnist.load_data()\n",
        "\n",
        "train_images = train_images.reshape((60000, 28, 28, 1))\n",
        "test_images = test_images.reshape((10000, 28, 28, 1))\n",
        "\n",
        "train_images, test_images = train_images / 255.0, test_images / 255.0\n",
        "\n",
        "classes=[0,1,2,3,4,5,6,7,8,9]"
      ],
      "execution_count": 97,
      "outputs": []
    },
    {
      "cell_type": "markdown",
      "source": [
        "Splitting train images list in two new lists: one for trainning and another for validation, in a rate of 5:1 objects."
      ],
      "metadata": {
        "id": "uZzK4bGKyUhU"
      }
    },
    {
      "cell_type": "code",
      "source": [
        "train_im = train_images[:50000]\n",
        "val_im = train_images[50000:]\n",
        "train_lab = train_labels[:50000]\n",
        "val_lab = train_labels[50000:]"
      ],
      "metadata": {
        "id": "jLi97HiFwxMq"
      },
      "execution_count": 98,
      "outputs": []
    },
    {
      "cell_type": "code",
      "metadata": {
        "id": "_eD7E_m39bis",
        "colab": {
          "base_uri": "https://localhost:8080/"
        },
        "outputId": "aac5a3ad-fa5f-4c94-f141-3230eab4da5b"
      },
      "source": [
        "model = models.Sequential()\n",
        "model.add(layers.Conv2D(32, (3, 3), activation='relu', input_shape=(28, 28, 1)))\n",
        "model.add(layers.MaxPooling2D((2, 2)))\n",
        "model.add(layers.Conv2D(64, (3, 3), activation='relu'))\n",
        "model.add(layers.MaxPooling2D((2, 2)))\n",
        "model.add(layers.Conv2D(64, (3, 3), activation='relu'))\n",
        "\n",
        "model.add(layers.Flatten())\n",
        "model.add(layers.Dense(64, activation='relu'))\n",
        "model.add(layers.Dense(10, activation='softmax'))\n"
      ],
      "execution_count": 99,
      "outputs": [
        {
          "output_type": "stream",
          "name": "stderr",
          "text": [
            "/usr/local/lib/python3.11/dist-packages/keras/src/layers/convolutional/base_conv.py:107: UserWarning: Do not pass an `input_shape`/`input_dim` argument to a layer. When using Sequential models, prefer using an `Input(shape)` object as the first layer in the model instead.\n",
            "  super().__init__(activity_regularizer=activity_regularizer, **kwargs)\n"
          ]
        }
      ]
    },
    {
      "cell_type": "code",
      "metadata": {
        "id": "e19fqT7B4QII"
      },
      "source": [
        "tensorboard_callback = tf.keras.callbacks.TensorBoard(logdir, histogram_freq=1)"
      ],
      "execution_count": 100,
      "outputs": []
    },
    {
      "cell_type": "code",
      "metadata": {
        "id": "QOIbCQ3T9bml",
        "outputId": "ca05b7f1-2327-42a6-ef1d-a2a47945e0b1",
        "colab": {
          "base_uri": "https://localhost:8080/"
        }
      },
      "source": [
        "model.compile(optimizer='adam',\n",
        "              loss='sparse_categorical_crossentropy',\n",
        "              metrics=['accuracy'])\n",
        "\n",
        "model.fit(x=train_im,\n",
        "            y=train_lab,\n",
        "            epochs=5,\n",
        "            validation_data=(val_im, val_lab))"
      ],
      "execution_count": 101,
      "outputs": [
        {
          "output_type": "stream",
          "name": "stdout",
          "text": [
            "Epoch 1/5\n",
            "\u001b[1m1563/1563\u001b[0m \u001b[32m━━━━━━━━━━━━━━━━━━━━\u001b[0m\u001b[37m\u001b[0m \u001b[1m11s\u001b[0m 5ms/step - accuracy: 0.8788 - loss: 0.3831 - val_accuracy: 0.9772 - val_loss: 0.0738\n",
            "Epoch 2/5\n",
            "\u001b[1m1563/1563\u001b[0m \u001b[32m━━━━━━━━━━━━━━━━━━━━\u001b[0m\u001b[37m\u001b[0m \u001b[1m6s\u001b[0m 4ms/step - accuracy: 0.9815 - loss: 0.0571 - val_accuracy: 0.9844 - val_loss: 0.0485\n",
            "Epoch 3/5\n",
            "\u001b[1m1563/1563\u001b[0m \u001b[32m━━━━━━━━━━━━━━━━━━━━\u001b[0m\u001b[37m\u001b[0m \u001b[1m11s\u001b[0m 4ms/step - accuracy: 0.9904 - loss: 0.0325 - val_accuracy: 0.9872 - val_loss: 0.0449\n",
            "Epoch 4/5\n",
            "\u001b[1m1563/1563\u001b[0m \u001b[32m━━━━━━━━━━━━━━━━━━━━\u001b[0m\u001b[37m\u001b[0m \u001b[1m9s\u001b[0m 4ms/step - accuracy: 0.9909 - loss: 0.0268 - val_accuracy: 0.9915 - val_loss: 0.0303\n",
            "Epoch 5/5\n",
            "\u001b[1m1563/1563\u001b[0m \u001b[32m━━━━━━━━━━━━━━━━━━━━\u001b[0m\u001b[37m\u001b[0m \u001b[1m10s\u001b[0m 4ms/step - accuracy: 0.9942 - loss: 0.0196 - val_accuracy: 0.9889 - val_loss: 0.0386\n"
          ]
        },
        {
          "output_type": "execute_result",
          "data": {
            "text/plain": [
              "<keras.src.callbacks.history.History at 0x798d04867e90>"
            ]
          },
          "metadata": {},
          "execution_count": 101
        }
      ]
    },
    {
      "cell_type": "code",
      "metadata": {
        "id": "SHkdG_lehhMU",
        "colab": {
          "base_uri": "https://localhost:8080/"
        },
        "outputId": "5059b047-bd19-4634-f2df-a9363d519787"
      },
      "source": [
        "y_true=test_labels\n",
        "y_pred = np.argmax(model.predict(test_images), axis=-1)\n"
      ],
      "execution_count": 102,
      "outputs": [
        {
          "output_type": "stream",
          "name": "stdout",
          "text": [
            "\u001b[1m313/313\u001b[0m \u001b[32m━━━━━━━━━━━━━━━━━━━━\u001b[0m\u001b[37m\u001b[0m \u001b[1m1s\u001b[0m 2ms/step\n"
          ]
        }
      ]
    },
    {
      "cell_type": "code",
      "metadata": {
        "id": "iu2h0QRmDJjW"
      },
      "source": [
        "classes=[0,1,2,3,4,5,6,7,8,9]"
      ],
      "execution_count": 103,
      "outputs": []
    },
    {
      "cell_type": "markdown",
      "source": [
        "Creating a confusion matrix with results of tha classification done by the model."
      ],
      "metadata": {
        "id": "q2mP_6_GysqT"
      }
    },
    {
      "cell_type": "code",
      "metadata": {
        "id": "REXBQV3UX15X",
        "outputId": "58de5c2f-08bb-425b-8276-9bf46429b4e6",
        "colab": {
          "base_uri": "https://localhost:8080/",
          "height": 826
        }
      },
      "source": [
        "con_mat = tf.math.confusion_matrix(labels=y_true, predictions=y_pred).numpy()\n",
        "con_mat_norm = np.around(con_mat.astype('float') / con_mat.sum(axis=1)[:, np.newaxis], decimals=2)\n",
        "\n",
        "con_mat_df = pd.DataFrame(con_mat_norm,\n",
        "                     index = classes,\n",
        "                     columns = classes)\n",
        "\n",
        "figure = plt.figure(figsize=(8, 8))\n",
        "sns.heatmap(con_mat_df, annot=True,cmap=plt.cm.Blues)\n",
        "plt.tight_layout()\n",
        "plt.ylabel('True label')\n",
        "plt.xlabel('Predicted label')\n",
        "plt.show()"
      ],
      "execution_count": 104,
      "outputs": [
        {
          "output_type": "display_data",
          "data": {
            "text/plain": [
              "<Figure size 800x800 with 2 Axes>"
            ],
            "image/png": "[encoded data removed]"
          },
          "metadata": {}
        }
      ]
    },
    {
      "cell_type": "markdown",
      "source": [
        "Calculating some Learning Matrics for the model results:"
      ],
      "metadata": {
        "id": "5dt7YYK5Lf-T"
      }
    },
    {
      "cell_type": "code",
      "source": [
        "print(con_mat)\n"
      ],
      "metadata": {
        "colab": {
          "base_uri": "https://localhost:8080/"
        },
        "id": "s4jJQ_JULjtc",
        "outputId": "312460ce-6bf1-4586-df71-87127e651bd0"
      },
      "execution_count": 105,
      "outputs": [
        {
          "output_type": "stream",
          "name": "stdout",
          "text": [
            "[[ 979    0    0    0    0    0    0    1    0    0]\n",
            " [   0 1128    1    3    0    1    0    1    1    0]\n",
            " [   1    1 1024    2    0    0    0    3    1    0]\n",
            " [   0    0    1 1004    0    4    0    0    1    0]\n",
            " [   0    0    0    0  975    0    1    0    0    6]\n",
            " [   1    0    0    6    0  883    2    0    0    0]\n",
            " [   6    1    0    0    1    0  949    0    1    0]\n",
            " [   0    1    3    2    0    0    0 1021    0    1]\n",
            " [   2    0    2    0    0    0    0    0  969    1]\n",
            " [   0    1    0    6    4    7    0    2    1  988]]\n"
          ]
        }
      ]
    },
    {
      "cell_type": "code",
      "source": [
        "success = 0\n",
        "mistake = 0\n",
        "for row in range(10):\n",
        "  for column in range(10):\n",
        "    if column == row:\n",
        "      success += con_mat[row][column]\n",
        "    else:\n",
        "      mistake += con_mat[row][column]\n",
        "\n",
        "print(success)\n",
        "print(mistake)"
      ],
      "metadata": {
        "colab": {
          "base_uri": "https://localhost:8080/"
        },
        "id": "hrelM6kpQu1k",
        "outputId": "69ab9958-bbed-49ef-908b-e30260b75a36"
      },
      "execution_count": 106,
      "outputs": [
        {
          "output_type": "stream",
          "name": "stdout",
          "text": [
            "9920\n",
            "80\n"
          ]
        }
      ]
    },
    {
      "cell_type": "code",
      "source": [
        "accuracy = success / (success + mistake)\n",
        "print(accuracy)"
      ],
      "metadata": {
        "colab": {
          "base_uri": "https://localhost:8080/"
        },
        "id": "zti1l21FS1yg",
        "outputId": "39be2edd-a13c-4ba9-d970-547f38fd9ac0"
      },
      "execution_count": 107,
      "outputs": [
        {
          "output_type": "stream",
          "name": "stdout",
          "text": [
            "0.992\n"
          ]
        }
      ]
    },
    {
      "cell_type": "code",
      "source": [
        "TP = []\n",
        "FN = []\n",
        "for row in range(10):\n",
        "  false_neg = 0\n",
        "  for column in range(10):\n",
        "    if column == row:\n",
        "      TP.append(con_mat[row][column])\n",
        "    else:\n",
        "      false_neg += con_mat[row][column]\n",
        "  FN.append(false_neg)\n",
        "\n",
        "print(f'True Positive: {TP}')\n",
        "print(f'False Negative: {FN}')"
      ],
      "metadata": {
        "colab": {
          "base_uri": "https://localhost:8080/"
        },
        "id": "WjCp5ZqoTf9z",
        "outputId": "0ea5bd3e-75bd-44fc-f145-2c8b26b4556b"
      },
      "execution_count": 108,
      "outputs": [
        {
          "output_type": "stream",
          "name": "stdout",
          "text": [
            "True Positive: [979, 1128, 1024, 1004, 975, 883, 949, 1021, 969, 988]\n",
            "False Negative: [1, 7, 8, 6, 7, 9, 9, 7, 5, 21]\n"
          ]
        }
      ]
    },
    {
      "cell_type": "code",
      "source": [
        "recall_mean = 0\n",
        "recall=[]\n",
        "for row in range(10):\n",
        "  recall.append(TP[row] / (TP[row] + FN[row]))\n",
        "  recall_mean += TP[row] / (TP[row] + FN[row])\n",
        "recall_mean = recall_mean/10\n",
        "print(f'Recall: {recall}')\n",
        "print(f'recall or sensibility mean:  {recall_mean}')\n"
      ],
      "metadata": {
        "colab": {
          "base_uri": "https://localhost:8080/"
        },
        "id": "JwVo23PhU_c0",
        "outputId": "926e52da-8902-4ca7-958e-82bf43e4c1e0"
      },
      "execution_count": 109,
      "outputs": [
        {
          "output_type": "stream",
          "name": "stdout",
          "text": [
            "Recall: [0.9989795918367347, 0.9938325991189427, 0.9922480620155039, 0.994059405940594, 0.9928716904276986, 0.9899103139013453, 0.9906054279749478, 0.9931906614785992, 0.9948665297741273, 0.979187314172448]\n",
            "recall or sensibility mean:  0.9919751596640941\n"
          ]
        }
      ]
    },
    {
      "cell_type": "code",
      "source": [
        "TP = []\n",
        "FP = []\n",
        "TN = []\n",
        "for column in range(10):\n",
        "  false_pos = 0\n",
        "  true_neg = 0\n",
        "  for row in range(10):\n",
        "    if column == row:\n",
        "      TP.append(con_mat[row][column])\n",
        "    else:\n",
        "      false_pos += con_mat[row][column]\n",
        "      for column_alter in range(10):\n",
        "        if column_alter != column:\n",
        "          true_neg += con_mat[row][column_alter]\n",
        "  FP.append(false_pos)\n",
        "  TN.append(true_neg)\n",
        "\n",
        "print(f'True Positive: {TP}')\n",
        "print(f'False Positive: {FP}')\n",
        "print(f'True Negative: {TN}')"
      ],
      "metadata": {
        "colab": {
          "base_uri": "https://localhost:8080/"
        },
        "id": "puIXaKr2WClD",
        "outputId": "59da4b09-c6ef-4697-8194-143185389d26"
      },
      "execution_count": 110,
      "outputs": [
        {
          "output_type": "stream",
          "name": "stdout",
          "text": [
            "True Positive: [979, 1128, 1024, 1004, 975, 883, 949, 1021, 969, 988]\n",
            "False Positive: [10, 4, 7, 19, 5, 12, 3, 7, 5, 8]\n",
            "True Negative: [9010, 8861, 8961, 8971, 9013, 9096, 9039, 8965, 9021, 8983]\n"
          ]
        }
      ]
    },
    {
      "cell_type": "code",
      "source": [
        "precision_mean = 0\n",
        "specificity_mean = 0\n",
        "precision=[]\n",
        "specificity=[]\n",
        "for column in range(10):\n",
        "  precision.append(TP[column] / (TP[column] + FP[column]))\n",
        "  specificity.append(TN[column] / (TN[column] + FP[column]))\n",
        "  precision_mean += TP[column] / (TP[column] + FP[column])\n",
        "  specificity_mean += TN[column] / (TN[column] + FP[column])\n",
        "precision_mean = precision_mean/10\n",
        "specificity_mean = specificity_mean/10\n",
        "print(f'Precision: {precision}')\n",
        "print(f'Precision mean:  {precision_mean}')\n",
        "print(f'Specificity: {specificity}')\n",
        "print(f'Specificity mean:  {specificity_mean}')"
      ],
      "metadata": {
        "colab": {
          "base_uri": "https://localhost:8080/"
        },
        "id": "ATwPjKcCYE2h",
        "outputId": "23bdb571-54af-4b8e-8631-1798901181ce"
      },
      "execution_count": 111,
      "outputs": [
        {
          "output_type": "stream",
          "name": "stdout",
          "text": [
            "Precision: [0.9898887765419616, 0.9964664310954063, 0.9932104752667313, 0.9814271749755621, 0.9948979591836735, 0.9865921787709497, 0.9968487394957983, 0.9931906614785992, 0.9948665297741273, 0.9919678714859438]\n",
            "Precision mean:  0.9919356798068752\n",
            "Specificity: [0.9988913525498891, 0.9995487873660462, 0.9992194469223907, 0.9978865406006674, 0.9994455533377689, 0.9986824769433466, 0.9996682149966821, 0.9992197949175212, 0.9994460447595834, 0.9991102213324435]\n",
            "Specificity mean:  0.999111843372634\n"
          ]
        }
      ]
    },
    {
      "cell_type": "code",
      "source": [
        "f_score = 2*(precision_mean*recall_mean)/(precision_mean+recall_mean)\n",
        "print(f'Specificity: {f_score}')"
      ],
      "metadata": {
        "colab": {
          "base_uri": "https://localhost:8080/"
        },
        "id": "-4ufK3bcYu0O",
        "outputId": "109603ee-b38f-4dff-e0fb-d84c6d278fd0"
      },
      "execution_count": 112,
      "outputs": [
        {
          "output_type": "stream",
          "name": "stdout",
          "text": [
            "Specificity: 0.9919554193426597\n"
          ]
        }
      ]
    },
    {
      "cell_type": "code",
      "source": [
        "FP_rate = [1-i for i in specificity]\n",
        "print(recall)\n",
        "print(FP_rate)\n",
        "figure = plt.figure(figsize=(8, 8))\n",
        "plt.plot(FP_rate,recall, color='blue', marker='o', linestyle='')\n",
        "plt.tight_layout()\n",
        "plt.xlim(0, 1)\n",
        "plt.ylim(0.9, 1)\n",
        "plt.ylabel('True Positive Rate')\n",
        "plt.xlabel('False Positive Rate')\n",
        "plt.title(\"ROC curve\")\n",
        "plt.show()"
      ],
      "metadata": {
        "colab": {
          "base_uri": "https://localhost:8080/",
          "height": 903
        },
        "id": "nEJsoewOma9F",
        "outputId": "65b6168c-42a3-4549-e78a-7880f6ce336c"
      },
      "execution_count": 113,
      "outputs": [
        {
          "output_type": "stream",
          "name": "stdout",
          "text": [
            "[0.9989795918367347, 0.9938325991189427, 0.9922480620155039, 0.994059405940594, 0.9928716904276986, 0.9899103139013453, 0.9906054279749478, 0.9931906614785992, 0.9948665297741273, 0.979187314172448]\n",
            "[0.0011086474501108556, 0.000451212633953757, 0.0007805530776092695, 0.0021134593993326067, 0.000554446662231145, 0.0013175230566534468, 0.00033178500331787486, 0.0007802050824787798, 0.0005539552404165704, 0.0008897786675564623]\n"
          ]
        },
        {
          "output_type": "display_data",
          "data": {
            "text/plain": [
              "<Figure size 800x800 with 1 Axes>"
            ],
            "image/png": "[encoded data removed]"
          },
          "metadata": {}
        }
      ]
    }
  ]
}